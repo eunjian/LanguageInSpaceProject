{
 "cells": [
  {
   "cell_type": "code",
   "execution_count": 1,
   "id": "affiliated-morning",
   "metadata": {},
   "outputs": [
    {
     "name": "stderr",
     "output_type": "stream",
     "text": [
      "Linking to GEOS 3.9.1, GDAL 3.3.2, PROJ 7.2.1; sf_use_s2() is TRUE\n",
      "\n",
      "── \u001b[1mAttaching packages\u001b[22m ─────────────────────────────────────────────────────────────────────────────── tidyverse 1.3.1 ──\n",
      "\n",
      "\u001b[32m✔\u001b[39m \u001b[34mggplot2\u001b[39m 3.3.6     \u001b[32m✔\u001b[39m \u001b[34mpurrr  \u001b[39m 0.3.4\n",
      "\u001b[32m✔\u001b[39m \u001b[34mtibble \u001b[39m 3.1.7     \u001b[32m✔\u001b[39m \u001b[34mdplyr  \u001b[39m 1.0.9\n",
      "\u001b[32m✔\u001b[39m \u001b[34mtidyr  \u001b[39m 1.2.0     \u001b[32m✔\u001b[39m \u001b[34mstringr\u001b[39m 1.4.0\n",
      "\u001b[32m✔\u001b[39m \u001b[34mreadr  \u001b[39m 2.1.2     \u001b[32m✔\u001b[39m \u001b[34mforcats\u001b[39m 0.5.1\n",
      "\n",
      "── \u001b[1mConflicts\u001b[22m ────────────────────────────────────────────────────────────────────────────────── tidyverse_conflicts() ──\n",
      "\u001b[31m✖\u001b[39m \u001b[34mdplyr\u001b[39m::\u001b[32mfilter()\u001b[39m masks \u001b[34mstats\u001b[39m::filter()\n",
      "\u001b[31m✖\u001b[39m \u001b[34mdplyr\u001b[39m::\u001b[32mlag()\u001b[39m    masks \u001b[34mstats\u001b[39m::lag()\n",
      "\n",
      "Loading required package: nlme\n",
      "\n",
      "\n",
      "Attaching package: 'nlme'\n",
      "\n",
      "\n",
      "The following object is masked from 'package:dplyr':\n",
      "\n",
      "    collapse\n",
      "\n",
      "\n",
      "This is mgcv 1.8-40. For overview type 'help(\"mgcv-package\")'.\n",
      "\n"
     ]
    }
   ],
   "source": [
    "library(sf)\n",
    "library(tidyverse)\n",
    "library(gstat)\n",
    "library(mgcv)"
   ]
  },
  {
   "cell_type": "code",
   "execution_count": 2,
   "id": "prerequisite-salad",
   "metadata": {},
   "outputs": [
    {
     "name": "stderr",
     "output_type": "stream",
     "text": [
      "\u001b[1mRows: \u001b[22m\u001b[34m183\u001b[39m \u001b[1mColumns: \u001b[22m\u001b[34m7\u001b[39m\n",
      "\u001b[36m──\u001b[39m \u001b[1mColumn specification\u001b[22m \u001b[36m────────────────────────────────────────────────────────────────────────────────────────────────\u001b[39m\n",
      "\u001b[1mDelimiter:\u001b[22m \",\"\n",
      "\u001b[31mchr\u001b[39m (2): doculect, col\n",
      "\u001b[32mdbl\u001b[39m (5): LONGITUDE, LATITUDE, r, g, b\n",
      "\n",
      "\u001b[36mℹ\u001b[39m Use `spec()` to retrieve the full column specification for this data.\n",
      "\u001b[36mℹ\u001b[39m Specify the column types or set `show_col_types = FALSE` to quiet this message.\n"
     ]
    }
   ],
   "source": [
    "# load the data\n",
    "pad_voronoi <- read_sf(\"pad_voronoi.shp\")\n",
    "germany <- pad_voronoi %>% \n",
    "  st_geometry() %>%\n",
    "  st_union()\n",
    "\n",
    "pad_mds <- read_csv(\"pad_mds.csv\") %>%\n",
    "  st_as_sf(coords = c(\"LONGITUDE\", \"LATITUDE\")) # 183 obs in total\n",
    "st_crs(pad_mds) <- 4326\n",
    "\n",
    "pad_grid <- germany %>% \n",
    "  st_bbox() %>%\n",
    "  st_as_sfc() %>%\n",
    "  st_make_grid(\n",
    "    cellsize = c(.05, .05),\n",
    "    what=\"centers\"\n",
    "  ) %>% \n",
    "  st_as_sf(crs=4326)\n",
    "st_crs(pad_mds) <- 4326"
   ]
  },
  {
   "cell_type": "code",
   "execution_count": 3,
   "id": "ultimate-cocktail",
   "metadata": {},
   "outputs": [],
   "source": [
    "# divide into training and test set\n",
    "pad_train = sample_n(pad_mds, 165) # 90% of the data for training\n",
    "st_crs(pad_train) <- 4326\n",
    "\n",
    "outside <- sapply(st_intersects(pad_mds, pad_train),function(x){length(x)==0})\n",
    "pad_test = pad_mds[outside, ] # 10% of the data for testing\n",
    "st_crs(pad_test) <- 4326"
   ]
  },
  {
   "cell_type": "code",
   "execution_count": 4,
   "id": "indian-reputation",
   "metadata": {},
   "outputs": [
    {
     "name": "stdout",
     "output_type": "stream",
     "text": [
      "[inverse distance weighted interpolation]\n"
     ]
    },
    {
     "name": "stderr",
     "output_type": "stream",
     "text": [
      "Registered S3 method overwritten by 'geojsonsf':\n",
      "  method        from   \n",
      "  print.geojson geojson\n",
      "\n"
     ]
    },
    {
     "data": {
      "application/geo+json": {
       "features": [
        {
         "geometry": {
          "coordinates": [
           11.9565,
           49.0728
          ],
          "type": "Point"
         },
         "properties": {
          "var1.pred": 0.7288,
          "var1.var": "NA"
         },
         "type": "Feature"
        },
        {
         "geometry": {
          "coordinates": [
           10.6146,
           49.0639
          ],
          "type": "Point"
         },
         "properties": {
          "var1.pred": 0.7711,
          "var1.var": "NA"
         },
         "type": "Feature"
        },
        {
         "geometry": {
          "coordinates": [
           8.868,
           50.974
          ],
          "type": "Point"
         },
         "properties": {
          "var1.pred": 0.5011,
          "var1.var": "NA"
         },
         "type": "Feature"
        },
        {
         "geometry": {
          "coordinates": [
           7.6378,
           49.6077
          ],
          "type": "Point"
         },
         "properties": {
          "var1.pred": 0.6669,
          "var1.var": "NA"
         },
         "type": "Feature"
        },
        {
         "geometry": {
          "coordinates": [
           9.9385,
           51.2578
          ],
          "type": "Point"
         },
         "properties": {
          "var1.pred": 0.38,
          "var1.var": "NA"
         },
         "type": "Feature"
        },
        {
         "geometry": {
          "coordinates": [
           8.855,
           50.7602
          ],
          "type": "Point"
         },
         "properties": {
          "var1.pred": 0.528,
          "var1.var": "NA"
         },
         "type": "Feature"
        },
        {
         "geometry": {
          "coordinates": [
           9.0982,
           49.7131
          ],
          "type": "Point"
         },
         "properties": {
          "var1.pred": 0.6697,
          "var1.var": "NA"
         },
         "type": "Feature"
        },
        {
         "geometry": {
          "coordinates": [
           8.1297,
           51.6302
          ],
          "type": "Point"
         },
         "properties": {
          "var1.pred": 0.3635,
          "var1.var": "NA"
         },
         "type": "Feature"
        },
        {
         "geometry": {
          "coordinates": [
           10.4823,
           51.5915
          ],
          "type": "Point"
         },
         "properties": {
          "var1.pred": 0.3328,
          "var1.var": "NA"
         },
         "type": "Feature"
        },
        {
         "geometry": {
          "coordinates": [
           8.3201,
           52.2121
          ],
          "type": "Point"
         },
         "properties": {
          "var1.pred": 0.2738,
          "var1.var": "NA"
         },
         "type": "Feature"
        },
        {
         "geometry": {
          "coordinates": [
           9.1076,
           52.7453
          ],
          "type": "Point"
         },
         "properties": {
          "var1.pred": 0.1219,
          "var1.var": "NA"
         },
         "type": "Feature"
        },
        {
         "geometry": {
          "coordinates": [
           10.336,
           51.8069
          ],
          "type": "Point"
         },
         "properties": {
          "var1.pred": 0.2698,
          "var1.var": "NA"
         },
         "type": "Feature"
        },
        {
         "geometry": {
          "coordinates": [
           14.0718,
           53.1236
          ],
          "type": "Point"
         },
         "properties": {
          "var1.pred": 0.2233,
          "var1.var": "NA"
         },
         "type": "Feature"
        },
        {
         "geometry": {
          "coordinates": [
           11.4315,
           51.3498
          ],
          "type": "Point"
         },
         "properties": {
          "var1.pred": 0.3618,
          "var1.var": "NA"
         },
         "type": "Feature"
        },
        {
         "geometry": {
          "coordinates": [
           9.8969,
           49.3038
          ],
          "type": "Point"
         },
         "properties": {
          "var1.pred": 0.7105,
          "var1.var": "NA"
         },
         "type": "Feature"
        },
        {
         "geometry": {
          "coordinates": [
           11.1151,
           50.9172
          ],
          "type": "Point"
         },
         "properties": {
          "var1.pred": 0.4409,
          "var1.var": "NA"
         },
         "type": "Feature"
        },
        {
         "geometry": {
          "coordinates": [
           12.9548,
           51.1979
          ],
          "type": "Point"
         },
         "properties": {
          "var1.pred": 0.381,
          "var1.var": "NA"
         },
         "type": "Feature"
        },
        {
         "geometry": {
          "coordinates": [
           10.6036,
           50.8513
          ],
          "type": "Point"
         },
         "properties": {
          "var1.pred": 0.4681,
          "var1.var": "NA"
         },
         "type": "Feature"
        }
       ],
       "type": "FeatureCollection"
      },
      "text/html": [
       "<table class=\"dataframe\">\n",
       "<caption>A sf: 18 × 3</caption>\n",
       "<thead>\n",
       "\t<tr><th></th><th scope=col>var1.pred</th><th scope=col>var1.var</th><th scope=col>geometry</th></tr>\n",
       "\t<tr><th></th><th scope=col>&lt;dbl&gt;</th><th scope=col>&lt;dbl&gt;</th><th scope=col>&lt;POINT [°]&gt;</th></tr>\n",
       "</thead>\n",
       "<tbody>\n",
       "\t<tr><th scope=row>1</th><td>0.7287666</td><td>NA</td><td>POINT (11.95648 49.07279)</td></tr>\n",
       "\t<tr><th scope=row>2</th><td>0.7711108</td><td>NA</td><td>POINT (10.61456 49.06389)</td></tr>\n",
       "\t<tr><th scope=row>3</th><td>0.5010620</td><td>NA</td><td>POINT (8.86801 50.974)</td></tr>\n",
       "\t<tr><th scope=row>4</th><td>0.6668912</td><td>NA</td><td>POINT (7.63783 49.60773)</td></tr>\n",
       "\t<tr><th scope=row>5</th><td>0.3799918</td><td>NA</td><td>POINT (9.93846 51.25775)</td></tr>\n",
       "\t<tr><th scope=row>6</th><td>0.5280494</td><td>NA</td><td>POINT (8.85498 50.76017)</td></tr>\n",
       "\t<tr><th scope=row>7</th><td>0.6696772</td><td>NA</td><td>POINT (9.09816 49.71315)</td></tr>\n",
       "\t<tr><th scope=row>8</th><td>0.3634762</td><td>NA</td><td>POINT (8.12967 51.63018)</td></tr>\n",
       "\t<tr><th scope=row>9</th><td>0.3327884</td><td>NA</td><td>POINT (10.48229 51.5915)</td></tr>\n",
       "\t<tr><th scope=row>10</th><td>0.2738200</td><td>NA</td><td>POINT (8.32006 52.21207)</td></tr>\n",
       "\t<tr><th scope=row>11</th><td>0.1218991</td><td>NA</td><td>POINT (9.10759 52.74531)</td></tr>\n",
       "\t<tr><th scope=row>12</th><td>0.2698053</td><td>NA</td><td>POINT (10.336 51.8069)</td></tr>\n",
       "\t<tr><th scope=row>13</th><td>0.2233465</td><td>NA</td><td>POINT (14.07178 53.12362)</td></tr>\n",
       "\t<tr><th scope=row>14</th><td>0.3618438</td><td>NA</td><td>POINT (11.43146 51.34975)</td></tr>\n",
       "\t<tr><th scope=row>15</th><td>0.7104553</td><td>NA</td><td>POINT (9.89691 49.30381)</td></tr>\n",
       "\t<tr><th scope=row>16</th><td>0.4409372</td><td>NA</td><td>POINT (11.11512 50.91724)</td></tr>\n",
       "\t<tr><th scope=row>17</th><td>0.3810080</td><td>NA</td><td>POINT (12.95481 51.19788)</td></tr>\n",
       "\t<tr><th scope=row>18</th><td>0.4681341</td><td>NA</td><td>POINT (10.60358 50.85131)</td></tr>\n",
       "</tbody>\n",
       "</table>\n"
      ],
      "text/latex": [
       "A sf: 18 × 3\n",
       "\\begin{tabular}{r|lll}\n",
       "  & var1.pred & var1.var & geometry\\\\\n",
       "  & <dbl> & <dbl> & <POINT {[}°{]}>\\\\\n",
       "\\hline\n",
       "\t1 & 0.7287666 & NA & POINT (11.95648 49.07279)\\\\\n",
       "\t2 & 0.7711108 & NA & POINT (10.61456 49.06389)\\\\\n",
       "\t3 & 0.5010620 & NA & POINT (8.86801 50.974)\\\\\n",
       "\t4 & 0.6668912 & NA & POINT (7.63783 49.60773)\\\\\n",
       "\t5 & 0.3799918 & NA & POINT (9.93846 51.25775)\\\\\n",
       "\t6 & 0.5280494 & NA & POINT (8.85498 50.76017)\\\\\n",
       "\t7 & 0.6696772 & NA & POINT (9.09816 49.71315)\\\\\n",
       "\t8 & 0.3634762 & NA & POINT (8.12967 51.63018)\\\\\n",
       "\t9 & 0.3327884 & NA & POINT (10.48229 51.5915)\\\\\n",
       "\t10 & 0.2738200 & NA & POINT (8.32006 52.21207)\\\\\n",
       "\t11 & 0.1218991 & NA & POINT (9.10759 52.74531)\\\\\n",
       "\t12 & 0.2698053 & NA & POINT (10.336 51.8069)\\\\\n",
       "\t13 & 0.2233465 & NA & POINT (14.07178 53.12362)\\\\\n",
       "\t14 & 0.3618438 & NA & POINT (11.43146 51.34975)\\\\\n",
       "\t15 & 0.7104553 & NA & POINT (9.89691 49.30381)\\\\\n",
       "\t16 & 0.4409372 & NA & POINT (11.11512 50.91724)\\\\\n",
       "\t17 & 0.3810080 & NA & POINT (12.95481 51.19788)\\\\\n",
       "\t18 & 0.4681341 & NA & POINT (10.60358 50.85131)\\\\\n",
       "\\end{tabular}\n"
      ],
      "text/markdown": [
       "\n",
       "A sf: 18 × 3\n",
       "\n",
       "| <!--/--> | var1.pred &lt;dbl&gt; | var1.var &lt;dbl&gt; | geometry &lt;POINT [°]&gt; |\n",
       "|---|---|---|---|\n",
       "| 1 | 0.7287666 | NA | POINT (11.95648 49.07279) |\n",
       "| 2 | 0.7711108 | NA | POINT (10.61456 49.06389) |\n",
       "| 3 | 0.5010620 | NA | POINT (8.86801 50.974) |\n",
       "| 4 | 0.6668912 | NA | POINT (7.63783 49.60773) |\n",
       "| 5 | 0.3799918 | NA | POINT (9.93846 51.25775) |\n",
       "| 6 | 0.5280494 | NA | POINT (8.85498 50.76017) |\n",
       "| 7 | 0.6696772 | NA | POINT (9.09816 49.71315) |\n",
       "| 8 | 0.3634762 | NA | POINT (8.12967 51.63018) |\n",
       "| 9 | 0.3327884 | NA | POINT (10.48229 51.5915) |\n",
       "| 10 | 0.2738200 | NA | POINT (8.32006 52.21207) |\n",
       "| 11 | 0.1218991 | NA | POINT (9.10759 52.74531) |\n",
       "| 12 | 0.2698053 | NA | POINT (10.336 51.8069) |\n",
       "| 13 | 0.2233465 | NA | POINT (14.07178 53.12362) |\n",
       "| 14 | 0.3618438 | NA | POINT (11.43146 51.34975) |\n",
       "| 15 | 0.7104553 | NA | POINT (9.89691 49.30381) |\n",
       "| 16 | 0.4409372 | NA | POINT (11.11512 50.91724) |\n",
       "| 17 | 0.3810080 | NA | POINT (12.95481 51.19788) |\n",
       "| 18 | 0.4681341 | NA | POINT (10.60358 50.85131) |\n",
       "\n"
      ],
      "text/plain": [
       "   var1.pred var1.var geometry                 \n",
       "1  0.7287666 NA       POINT (11.95648 49.07279)\n",
       "2  0.7711108 NA       POINT (10.61456 49.06389)\n",
       "3  0.5010620 NA       POINT (8.86801 50.974)   \n",
       "4  0.6668912 NA       POINT (7.63783 49.60773) \n",
       "5  0.3799918 NA       POINT (9.93846 51.25775) \n",
       "6  0.5280494 NA       POINT (8.85498 50.76017) \n",
       "7  0.6696772 NA       POINT (9.09816 49.71315) \n",
       "8  0.3634762 NA       POINT (8.12967 51.63018) \n",
       "9  0.3327884 NA       POINT (10.48229 51.5915) \n",
       "10 0.2738200 NA       POINT (8.32006 52.21207) \n",
       "11 0.1218991 NA       POINT (9.10759 52.74531) \n",
       "12 0.2698053 NA       POINT (10.336 51.8069)   \n",
       "13 0.2233465 NA       POINT (14.07178 53.12362)\n",
       "14 0.3618438 NA       POINT (11.43146 51.34975)\n",
       "15 0.7104553 NA       POINT (9.89691 49.30381) \n",
       "16 0.4409372 NA       POINT (11.11512 50.91724)\n",
       "17 0.3810080 NA       POINT (12.95481 51.19788)\n",
       "18 0.4681341 NA       POINT (10.60358 50.85131)"
      ]
     },
     "metadata": {},
     "output_type": "display_data"
    }
   ],
   "source": [
    "# Inverse distance weighted interpolation\n",
    "pad.idw <- idw(r ~ 1, location = pad_train, newdata = pad_test, idp=2)\n",
    "pad.idw"
   ]
  },
  {
   "cell_type": "code",
   "execution_count": 5,
   "id": "electronic-dominican",
   "metadata": {},
   "outputs": [
    {
     "name": "stdout",
     "output_type": "stream",
     "text": [
      "[using ordinary kriging]\n"
     ]
    },
    {
     "data": {
      "application/geo+json": {
       "features": [
        {
         "geometry": {
          "coordinates": [
           11.9565,
           49.0728
          ],
          "type": "Point"
         },
         "properties": {
          "var1.pred": 0.8229,
          "var1.var": 0.009
         },
         "type": "Feature"
        },
        {
         "geometry": {
          "coordinates": [
           10.6146,
           49.0639
          ],
          "type": "Point"
         },
         "properties": {
          "var1.pred": 0.8615,
          "var1.var": 0.0061
         },
         "type": "Feature"
        },
        {
         "geometry": {
          "coordinates": [
           8.868,
           50.974
          ],
          "type": "Point"
         },
         "properties": {
          "var1.pred": 0.508,
          "var1.var": 0.0055
         },
         "type": "Feature"
        },
        {
         "geometry": {
          "coordinates": [
           7.6378,
           49.6077
          ],
          "type": "Point"
         },
         "properties": {
          "var1.pred": 0.752,
          "var1.var": 0.0098
         },
         "type": "Feature"
        },
        {
         "geometry": {
          "coordinates": [
           9.9385,
           51.2578
          ],
          "type": "Point"
         },
         "properties": {
          "var1.pred": 0.2689,
          "var1.var": 0.007
         },
         "type": "Feature"
        },
        {
         "geometry": {
          "coordinates": [
           8.855,
           50.7602
          ],
          "type": "Point"
         },
         "properties": {
          "var1.pred": 0.5691,
          "var1.var": 0.0054
         },
         "type": "Feature"
        },
        {
         "geometry": {
          "coordinates": [
           9.0982,
           49.7131
          ],
          "type": "Point"
         },
         "properties": {
          "var1.pred": 0.845,
          "var1.var": 0.0117
         },
         "type": "Feature"
        },
        {
         "geometry": {
          "coordinates": [
           8.1297,
           51.6302
          ],
          "type": "Point"
         },
         "properties": {
          "var1.pred": 0.2781,
          "var1.var": 0.0104
         },
         "type": "Feature"
        },
        {
         "geometry": {
          "coordinates": [
           10.4823,
           51.5915
          ],
          "type": "Point"
         },
         "properties": {
          "var1.pred": 0.3165,
          "var1.var": 0.0038
         },
         "type": "Feature"
        },
        {
         "geometry": {
          "coordinates": [
           8.3201,
           52.2121
          ],
          "type": "Point"
         },
         "properties": {
          "var1.pred": 0.2397,
          "var1.var": 0.0062
         },
         "type": "Feature"
        },
        {
         "geometry": {
          "coordinates": [
           9.1076,
           52.7453
          ],
          "type": "Point"
         },
         "properties": {
          "var1.pred": 0.0491,
          "var1.var": 0.0051
         },
         "type": "Feature"
        },
        {
         "geometry": {
          "coordinates": [
           10.336,
           51.8069
          ],
          "type": "Point"
         },
         "properties": {
          "var1.pred": 0.2386,
          "var1.var": 0.0051
         },
         "type": "Feature"
        },
        {
         "geometry": {
          "coordinates": [
           14.0718,
           53.1236
          ],
          "type": "Point"
         },
         "properties": {
          "var1.pred": 0.1852,
          "var1.var": 0.0129
         },
         "type": "Feature"
        },
        {
         "geometry": {
          "coordinates": [
           11.4315,
           51.3498
          ],
          "type": "Point"
         },
         "properties": {
          "var1.pred": 0.3103,
          "var1.var": 0.0092
         },
         "type": "Feature"
        },
        {
         "geometry": {
          "coordinates": [
           9.8969,
           49.3038
          ],
          "type": "Point"
         },
         "properties": {
          "var1.pred": 0.8367,
          "var1.var": 0.0123
         },
         "type": "Feature"
        },
        {
         "geometry": {
          "coordinates": [
           11.1151,
           50.9172
          ],
          "type": "Point"
         },
         "properties": {
          "var1.pred": 0.3554,
          "var1.var": 0.0088
         },
         "type": "Feature"
        },
        {
         "geometry": {
          "coordinates": [
           12.9548,
           51.1979
          ],
          "type": "Point"
         },
         "properties": {
          "var1.pred": 0.3736,
          "var1.var": 0.0052
         },
         "type": "Feature"
        },
        {
         "geometry": {
          "coordinates": [
           10.6036,
           50.8513
          ],
          "type": "Point"
         },
         "properties": {
          "var1.pred": 0.4046,
          "var1.var": 0.0068
         },
         "type": "Feature"
        }
       ],
       "type": "FeatureCollection"
      },
      "text/html": [
       "<table class=\"dataframe\">\n",
       "<caption>A sf: 18 × 3</caption>\n",
       "<thead>\n",
       "\t<tr><th></th><th scope=col>var1.pred</th><th scope=col>var1.var</th><th scope=col>geometry</th></tr>\n",
       "\t<tr><th></th><th scope=col>&lt;dbl&gt;</th><th scope=col>&lt;dbl&gt;</th><th scope=col>&lt;POINT [°]&gt;</th></tr>\n",
       "</thead>\n",
       "<tbody>\n",
       "\t<tr><th scope=row>1</th><td>0.82286424</td><td>0.008960758</td><td>POINT (11.95648 49.07279)</td></tr>\n",
       "\t<tr><th scope=row>2</th><td>0.86152696</td><td>0.006145824</td><td>POINT (10.61456 49.06389)</td></tr>\n",
       "\t<tr><th scope=row>3</th><td>0.50797537</td><td>0.005547854</td><td>POINT (8.86801 50.974)</td></tr>\n",
       "\t<tr><th scope=row>4</th><td>0.75203729</td><td>0.009845640</td><td>POINT (7.63783 49.60773)</td></tr>\n",
       "\t<tr><th scope=row>5</th><td>0.26892743</td><td>0.006988151</td><td>POINT (9.93846 51.25775)</td></tr>\n",
       "\t<tr><th scope=row>6</th><td>0.56905018</td><td>0.005391376</td><td>POINT (8.85498 50.76017)</td></tr>\n",
       "\t<tr><th scope=row>7</th><td>0.84495558</td><td>0.011671200</td><td>POINT (9.09816 49.71315)</td></tr>\n",
       "\t<tr><th scope=row>8</th><td>0.27814189</td><td>0.010394476</td><td>POINT (8.12967 51.63018)</td></tr>\n",
       "\t<tr><th scope=row>9</th><td>0.31652175</td><td>0.003753346</td><td>POINT (10.48229 51.5915)</td></tr>\n",
       "\t<tr><th scope=row>10</th><td>0.23970219</td><td>0.006199983</td><td>POINT (8.32006 52.21207)</td></tr>\n",
       "\t<tr><th scope=row>11</th><td>0.04908457</td><td>0.005094814</td><td>POINT (9.10759 52.74531)</td></tr>\n",
       "\t<tr><th scope=row>12</th><td>0.23862216</td><td>0.005092468</td><td>POINT (10.336 51.8069)</td></tr>\n",
       "\t<tr><th scope=row>13</th><td>0.18519227</td><td>0.012941507</td><td>POINT (14.07178 53.12362)</td></tr>\n",
       "\t<tr><th scope=row>14</th><td>0.31029584</td><td>0.009193938</td><td>POINT (11.43146 51.34975)</td></tr>\n",
       "\t<tr><th scope=row>15</th><td>0.83672931</td><td>0.012274908</td><td>POINT (9.89691 49.30381)</td></tr>\n",
       "\t<tr><th scope=row>16</th><td>0.35544726</td><td>0.008811510</td><td>POINT (11.11512 50.91724)</td></tr>\n",
       "\t<tr><th scope=row>17</th><td>0.37361467</td><td>0.005221466</td><td>POINT (12.95481 51.19788)</td></tr>\n",
       "\t<tr><th scope=row>18</th><td>0.40457604</td><td>0.006844151</td><td>POINT (10.60358 50.85131)</td></tr>\n",
       "</tbody>\n",
       "</table>\n"
      ],
      "text/latex": [
       "A sf: 18 × 3\n",
       "\\begin{tabular}{r|lll}\n",
       "  & var1.pred & var1.var & geometry\\\\\n",
       "  & <dbl> & <dbl> & <POINT {[}°{]}>\\\\\n",
       "\\hline\n",
       "\t1 & 0.82286424 & 0.008960758 & POINT (11.95648 49.07279)\\\\\n",
       "\t2 & 0.86152696 & 0.006145824 & POINT (10.61456 49.06389)\\\\\n",
       "\t3 & 0.50797537 & 0.005547854 & POINT (8.86801 50.974)\\\\\n",
       "\t4 & 0.75203729 & 0.009845640 & POINT (7.63783 49.60773)\\\\\n",
       "\t5 & 0.26892743 & 0.006988151 & POINT (9.93846 51.25775)\\\\\n",
       "\t6 & 0.56905018 & 0.005391376 & POINT (8.85498 50.76017)\\\\\n",
       "\t7 & 0.84495558 & 0.011671200 & POINT (9.09816 49.71315)\\\\\n",
       "\t8 & 0.27814189 & 0.010394476 & POINT (8.12967 51.63018)\\\\\n",
       "\t9 & 0.31652175 & 0.003753346 & POINT (10.48229 51.5915)\\\\\n",
       "\t10 & 0.23970219 & 0.006199983 & POINT (8.32006 52.21207)\\\\\n",
       "\t11 & 0.04908457 & 0.005094814 & POINT (9.10759 52.74531)\\\\\n",
       "\t12 & 0.23862216 & 0.005092468 & POINT (10.336 51.8069)\\\\\n",
       "\t13 & 0.18519227 & 0.012941507 & POINT (14.07178 53.12362)\\\\\n",
       "\t14 & 0.31029584 & 0.009193938 & POINT (11.43146 51.34975)\\\\\n",
       "\t15 & 0.83672931 & 0.012274908 & POINT (9.89691 49.30381)\\\\\n",
       "\t16 & 0.35544726 & 0.008811510 & POINT (11.11512 50.91724)\\\\\n",
       "\t17 & 0.37361467 & 0.005221466 & POINT (12.95481 51.19788)\\\\\n",
       "\t18 & 0.40457604 & 0.006844151 & POINT (10.60358 50.85131)\\\\\n",
       "\\end{tabular}\n"
      ],
      "text/markdown": [
       "\n",
       "A sf: 18 × 3\n",
       "\n",
       "| <!--/--> | var1.pred &lt;dbl&gt; | var1.var &lt;dbl&gt; | geometry &lt;POINT [°]&gt; |\n",
       "|---|---|---|---|\n",
       "| 1 | 0.82286424 | 0.008960758 | POINT (11.95648 49.07279) |\n",
       "| 2 | 0.86152696 | 0.006145824 | POINT (10.61456 49.06389) |\n",
       "| 3 | 0.50797537 | 0.005547854 | POINT (8.86801 50.974) |\n",
       "| 4 | 0.75203729 | 0.009845640 | POINT (7.63783 49.60773) |\n",
       "| 5 | 0.26892743 | 0.006988151 | POINT (9.93846 51.25775) |\n",
       "| 6 | 0.56905018 | 0.005391376 | POINT (8.85498 50.76017) |\n",
       "| 7 | 0.84495558 | 0.011671200 | POINT (9.09816 49.71315) |\n",
       "| 8 | 0.27814189 | 0.010394476 | POINT (8.12967 51.63018) |\n",
       "| 9 | 0.31652175 | 0.003753346 | POINT (10.48229 51.5915) |\n",
       "| 10 | 0.23970219 | 0.006199983 | POINT (8.32006 52.21207) |\n",
       "| 11 | 0.04908457 | 0.005094814 | POINT (9.10759 52.74531) |\n",
       "| 12 | 0.23862216 | 0.005092468 | POINT (10.336 51.8069) |\n",
       "| 13 | 0.18519227 | 0.012941507 | POINT (14.07178 53.12362) |\n",
       "| 14 | 0.31029584 | 0.009193938 | POINT (11.43146 51.34975) |\n",
       "| 15 | 0.83672931 | 0.012274908 | POINT (9.89691 49.30381) |\n",
       "| 16 | 0.35544726 | 0.008811510 | POINT (11.11512 50.91724) |\n",
       "| 17 | 0.37361467 | 0.005221466 | POINT (12.95481 51.19788) |\n",
       "| 18 | 0.40457604 | 0.006844151 | POINT (10.60358 50.85131) |\n",
       "\n"
      ],
      "text/plain": [
       "   var1.pred  var1.var    geometry                 \n",
       "1  0.82286424 0.008960758 POINT (11.95648 49.07279)\n",
       "2  0.86152696 0.006145824 POINT (10.61456 49.06389)\n",
       "3  0.50797537 0.005547854 POINT (8.86801 50.974)   \n",
       "4  0.75203729 0.009845640 POINT (7.63783 49.60773) \n",
       "5  0.26892743 0.006988151 POINT (9.93846 51.25775) \n",
       "6  0.56905018 0.005391376 POINT (8.85498 50.76017) \n",
       "7  0.84495558 0.011671200 POINT (9.09816 49.71315) \n",
       "8  0.27814189 0.010394476 POINT (8.12967 51.63018) \n",
       "9  0.31652175 0.003753346 POINT (10.48229 51.5915) \n",
       "10 0.23970219 0.006199983 POINT (8.32006 52.21207) \n",
       "11 0.04908457 0.005094814 POINT (9.10759 52.74531) \n",
       "12 0.23862216 0.005092468 POINT (10.336 51.8069)   \n",
       "13 0.18519227 0.012941507 POINT (14.07178 53.12362)\n",
       "14 0.31029584 0.009193938 POINT (11.43146 51.34975)\n",
       "15 0.83672931 0.012274908 POINT (9.89691 49.30381) \n",
       "16 0.35544726 0.008811510 POINT (11.11512 50.91724)\n",
       "17 0.37361467 0.005221466 POINT (12.95481 51.19788)\n",
       "18 0.40457604 0.006844151 POINT (10.60358 50.85131)"
      ]
     },
     "metadata": {},
     "output_type": "display_data"
    }
   ],
   "source": [
    "# Ordinary Kriging\n",
    "pad.v <- pad_train %>% variogram(r ~ 1, ., cloud=F, cutoff=1000) \n",
    "myVariogramModel <- vgm(psill=0.28, \"Sph\", range=1000, nugget=0.02)\n",
    "pad.vfit <- fit.variogram(pad.v, myVariogramModel, fit.ranges=F)\n",
    "pad.krige <- krige(r ~ 1, pad_train, pad_test, pad.vfit)\n",
    "pad.krige"
   ]
  },
  {
   "cell_type": "code",
   "execution_count": 6,
   "id": "veterinary-ceiling",
   "metadata": {},
   "outputs": [
    {
     "data": {
      "text/html": [
       "<table class=\"dataframe\">\n",
       "<caption>A data.frame: 18 × 3</caption>\n",
       "<thead>\n",
       "\t<tr><th></th><th scope=col>X</th><th scope=col>Y</th><th scope=col>Z</th></tr>\n",
       "\t<tr><th></th><th scope=col>&lt;dbl&gt;</th><th scope=col>&lt;dbl&gt;</th><th scope=col>&lt;dbl&gt;</th></tr>\n",
       "</thead>\n",
       "<tbody>\n",
       "\t<tr><th scope=row>1</th><td>11.95648</td><td>49.07279</td><td>0.7671347</td></tr>\n",
       "\t<tr><th scope=row>2</th><td>10.61456</td><td>49.06389</td><td>0.8620809</td></tr>\n",
       "\t<tr><th scope=row>3</th><td> 8.86801</td><td>50.97400</td><td>0.4879954</td></tr>\n",
       "\t<tr><th scope=row>4</th><td> 7.63783</td><td>49.60773</td><td>0.7391883</td></tr>\n",
       "\t<tr><th scope=row>5</th><td> 9.93846</td><td>51.25775</td><td>0.3878407</td></tr>\n",
       "\t<tr><th scope=row>6</th><td> 8.85498</td><td>50.76017</td><td>0.5408546</td></tr>\n",
       "\t<tr><th scope=row>7</th><td> 9.09816</td><td>49.71315</td><td>0.7766164</td></tr>\n",
       "\t<tr><th scope=row>8</th><td> 8.12967</td><td>51.63018</td><td>0.3427526</td></tr>\n",
       "\t<tr><th scope=row>9</th><td>10.48229</td><td>51.59150</td><td>0.2816372</td></tr>\n",
       "\t<tr><th scope=row>10</th><td> 8.32006</td><td>52.21207</td><td>0.2340391</td></tr>\n",
       "\t<tr><th scope=row>11</th><td> 9.10759</td><td>52.74531</td><td>0.1270586</td></tr>\n",
       "\t<tr><th scope=row>12</th><td>10.33600</td><td>51.80690</td><td>0.2348143</td></tr>\n",
       "\t<tr><th scope=row>13</th><td>14.07178</td><td>53.12362</td><td>0.1897301</td></tr>\n",
       "\t<tr><th scope=row>14</th><td>11.43146</td><td>51.34975</td><td>0.3388606</td></tr>\n",
       "\t<tr><th scope=row>15</th><td> 9.89691</td><td>49.30381</td><td>0.8503737</td></tr>\n",
       "\t<tr><th scope=row>16</th><td>11.11512</td><td>50.91724</td><td>0.4542637</td></tr>\n",
       "\t<tr><th scope=row>17</th><td>12.95481</td><td>51.19788</td><td>0.3745116</td></tr>\n",
       "\t<tr><th scope=row>18</th><td>10.60358</td><td>50.85131</td><td>0.4872998</td></tr>\n",
       "</tbody>\n",
       "</table>\n"
      ],
      "text/latex": [
       "A data.frame: 18 × 3\n",
       "\\begin{tabular}{r|lll}\n",
       "  & X & Y & Z\\\\\n",
       "  & <dbl> & <dbl> & <dbl>\\\\\n",
       "\\hline\n",
       "\t1 & 11.95648 & 49.07279 & 0.7671347\\\\\n",
       "\t2 & 10.61456 & 49.06389 & 0.8620809\\\\\n",
       "\t3 &  8.86801 & 50.97400 & 0.4879954\\\\\n",
       "\t4 &  7.63783 & 49.60773 & 0.7391883\\\\\n",
       "\t5 &  9.93846 & 51.25775 & 0.3878407\\\\\n",
       "\t6 &  8.85498 & 50.76017 & 0.5408546\\\\\n",
       "\t7 &  9.09816 & 49.71315 & 0.7766164\\\\\n",
       "\t8 &  8.12967 & 51.63018 & 0.3427526\\\\\n",
       "\t9 & 10.48229 & 51.59150 & 0.2816372\\\\\n",
       "\t10 &  8.32006 & 52.21207 & 0.2340391\\\\\n",
       "\t11 &  9.10759 & 52.74531 & 0.1270586\\\\\n",
       "\t12 & 10.33600 & 51.80690 & 0.2348143\\\\\n",
       "\t13 & 14.07178 & 53.12362 & 0.1897301\\\\\n",
       "\t14 & 11.43146 & 51.34975 & 0.3388606\\\\\n",
       "\t15 &  9.89691 & 49.30381 & 0.8503737\\\\\n",
       "\t16 & 11.11512 & 50.91724 & 0.4542637\\\\\n",
       "\t17 & 12.95481 & 51.19788 & 0.3745116\\\\\n",
       "\t18 & 10.60358 & 50.85131 & 0.4872998\\\\\n",
       "\\end{tabular}\n"
      ],
      "text/markdown": [
       "\n",
       "A data.frame: 18 × 3\n",
       "\n",
       "| <!--/--> | X &lt;dbl&gt; | Y &lt;dbl&gt; | Z &lt;dbl&gt; |\n",
       "|---|---|---|---|\n",
       "| 1 | 11.95648 | 49.07279 | 0.7671347 |\n",
       "| 2 | 10.61456 | 49.06389 | 0.8620809 |\n",
       "| 3 |  8.86801 | 50.97400 | 0.4879954 |\n",
       "| 4 |  7.63783 | 49.60773 | 0.7391883 |\n",
       "| 5 |  9.93846 | 51.25775 | 0.3878407 |\n",
       "| 6 |  8.85498 | 50.76017 | 0.5408546 |\n",
       "| 7 |  9.09816 | 49.71315 | 0.7766164 |\n",
       "| 8 |  8.12967 | 51.63018 | 0.3427526 |\n",
       "| 9 | 10.48229 | 51.59150 | 0.2816372 |\n",
       "| 10 |  8.32006 | 52.21207 | 0.2340391 |\n",
       "| 11 |  9.10759 | 52.74531 | 0.1270586 |\n",
       "| 12 | 10.33600 | 51.80690 | 0.2348143 |\n",
       "| 13 | 14.07178 | 53.12362 | 0.1897301 |\n",
       "| 14 | 11.43146 | 51.34975 | 0.3388606 |\n",
       "| 15 |  9.89691 | 49.30381 | 0.8503737 |\n",
       "| 16 | 11.11512 | 50.91724 | 0.4542637 |\n",
       "| 17 | 12.95481 | 51.19788 | 0.3745116 |\n",
       "| 18 | 10.60358 | 50.85131 | 0.4872998 |\n",
       "\n"
      ],
      "text/plain": [
       "   X        Y        Z        \n",
       "1  11.95648 49.07279 0.7671347\n",
       "2  10.61456 49.06389 0.8620809\n",
       "3   8.86801 50.97400 0.4879954\n",
       "4   7.63783 49.60773 0.7391883\n",
       "5   9.93846 51.25775 0.3878407\n",
       "6   8.85498 50.76017 0.5408546\n",
       "7   9.09816 49.71315 0.7766164\n",
       "8   8.12967 51.63018 0.3427526\n",
       "9  10.48229 51.59150 0.2816372\n",
       "10  8.32006 52.21207 0.2340391\n",
       "11  9.10759 52.74531 0.1270586\n",
       "12 10.33600 51.80690 0.2348143\n",
       "13 14.07178 53.12362 0.1897301\n",
       "14 11.43146 51.34975 0.3388606\n",
       "15  9.89691 49.30381 0.8503737\n",
       "16 11.11512 50.91724 0.4542637\n",
       "17 12.95481 51.19788 0.3745116\n",
       "18 10.60358 50.85131 0.4872998"
      ]
     },
     "metadata": {},
     "output_type": "display_data"
    }
   ],
   "source": [
    "# Generalized Additive Models\n",
    "gam.fit <- pad_train %>%\n",
    "  cbind(., st_coordinates(.)) %>%\n",
    "  select(r, X, Y) %>%\n",
    "  mgcv::gam(r ~ s(X,Y), data=.) \n",
    "\n",
    "gam.prediction <- predict(gam.fit, newdata = data.frame(st_coordinates(pad_test)))\n",
    "\n",
    "pad.gam <- pad.krige %>%\n",
    "  cbind(., st_coordinates(.)) %>%\n",
    "  st_drop_geometry() %>%\n",
    "  mutate(Z = gam.prediction) %>%\n",
    "  select(X, Y, Z) \n",
    "#   %>% raster::rasterFromXYZ(crs=4326) %>%\n",
    "#   as(\"SpatRaster\")\n",
    "\n",
    "pad.gam"
   ]
  },
  {
   "cell_type": "code",
   "execution_count": 8,
   "id": "divided-organ",
   "metadata": {},
   "outputs": [
    {
     "name": "stdout",
     "output_type": "stream",
     "text": [
      "RMSE value of IDW model is  0.1654976 \n",
      "RMSE value of Ordinary Kriging model is  0.1668489 \n",
      "RMSE value of GAM is  0.1467285"
     ]
    }
   ],
   "source": [
    "# calculate Root Mean Square Error(RMSE) from three different models\n",
    "rmse.idw <- sqrt(mean((pad_test$r - pad.idw$var1.pred)^2))\n",
    "rmse.krige <- sqrt(mean((pad_test$r - pad.krige$var1.pred)^2))\n",
    "rmse.gam <- sqrt(mean((pad_test$r - pad.gam$Z)^2))\n",
    "\n",
    "cat(\"RMSE value of IDW model is \", rmse.idw, \n",
    "    \"\\nRMSE value of Ordinary Kriging model is \", rmse.krige, \n",
    "    \"\\nRMSE value of GAM is \", rmse.gam)"
   ]
  },
  {
   "cell_type": "code",
   "execution_count": 9,
   "id": "driven-clarity",
   "metadata": {},
   "outputs": [
    {
     "data": {
      "text/html": [
       "<style>\n",
       ".list-inline {list-style: none; margin:0; padding: 0}\n",
       ".list-inline>li {display: inline-block}\n",
       ".list-inline>li:not(:last-child)::after {content: \"\\00b7\"; padding: 0 .5ex}\n",
       "</style>\n",
       "<ol class=list-inline><li>0.146728489021633</li><li>0.165497608129746</li><li>0.166848897472649</li></ol>\n"
      ],
      "text/latex": [
       "\\begin{enumerate*}\n",
       "\\item 0.146728489021633\n",
       "\\item 0.165497608129746\n",
       "\\item 0.166848897472649\n",
       "\\end{enumerate*}\n"
      ],
      "text/markdown": [
       "1. 0.146728489021633\n",
       "2. 0.165497608129746\n",
       "3. 0.166848897472649\n",
       "\n",
       "\n"
      ],
      "text/plain": [
       "[1] 0.1467285 0.1654976 0.1668489"
      ]
     },
     "metadata": {},
     "output_type": "display_data"
    }
   ],
   "source": [
    "# compare the RMSE values of each model\n",
    "sort(c(rmse.gam, rmse.idw, rmse.krige)) # rmse.gam < rmse.krige < rmse.idw"
   ]
  },
  {
   "cell_type": "markdown",
   "id": "environmental-reason",
   "metadata": {},
   "source": [
    "Conclusion: \n",
    "Comparison of the RMSE values shows us that GAM model has the lowest RMSE value.\n",
    "This means when we use GAM, we can fit the data the best out of the three spatial smoothing models."
   ]
  },
  {
   "cell_type": "code",
   "execution_count": null,
   "id": "loose-thesaurus",
   "metadata": {},
   "outputs": [],
   "source": []
  }
 ],
 "metadata": {
  "kernelspec": {
   "display_name": "R",
   "language": "R",
   "name": "ir"
  },
  "language_info": {
   "codemirror_mode": "r",
   "file_extension": ".r",
   "mimetype": "text/x-r-source",
   "name": "R",
   "pygments_lexer": "r",
   "version": "4.2.1"
  }
 },
 "nbformat": 4,
 "nbformat_minor": 5
}
