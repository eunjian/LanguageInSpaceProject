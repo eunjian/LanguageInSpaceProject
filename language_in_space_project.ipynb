{
 "cells": [
  {
   "cell_type": "code",
   "execution_count": 12,
   "id": "polar-meditation",
   "metadata": {},
   "outputs": [],
   "source": [
    "library(mgcv)\n",
    "library(sf)\n",
    "library(tidyverse)\n",
    "library(gstat)"
   ]
  },
  {
   "cell_type": "code",
   "execution_count": 6,
   "id": "civil-richards",
   "metadata": {},
   "outputs": [
    {
     "name": "stderr",
     "output_type": "stream",
     "text": [
      "\u001b[1mRows: \u001b[22m\u001b[34m183\u001b[39m \u001b[1mColumns: \u001b[22m\u001b[34m7\u001b[39m\n",
      "\u001b[36m──\u001b[39m \u001b[1mColumn specification\u001b[22m \u001b[36m────────────────────────────────────────────────────────────────────────────────────────────────\u001b[39m\n",
      "\u001b[1mDelimiter:\u001b[22m \",\"\n",
      "\u001b[31mchr\u001b[39m (2): doculect, col\n",
      "\u001b[32mdbl\u001b[39m (5): LONGITUDE, LATITUDE, r, g, b\n",
      "\n",
      "\u001b[36mℹ\u001b[39m Use `spec()` to retrieve the full column specification for this data.\n",
      "\u001b[36mℹ\u001b[39m Specify the column types or set `show_col_types = FALSE` to quiet this message.\n"
     ]
    }
   ],
   "source": [
    "# load the data\n",
    "pad_voronoi <- read_sf(\"pad_voronoi.shp\")\n",
    "germany <- pad_voronoi %>% \n",
    "  st_geometry() %>%\n",
    "  st_union()\n",
    "\n",
    "pad_mds <- read_csv(\"pad_mds.csv\") %>%\n",
    "  st_as_sf(coords = c(\"LONGITUDE\", \"LATITUDE\")) # 183 obs in total\n",
    "st_crs(pad_mds) <- 4326\n",
    "\n",
    "pad_grid <- germany %>% \n",
    "  st_bbox() %>%\n",
    "  st_as_sfc() %>%\n",
    "  st_make_grid(\n",
    "    cellsize = c(.05, .05),\n",
    "    what=\"centers\"\n",
    "  ) %>% \n",
    "  st_as_sf(crs=4326)\n",
    "st_crs(pad_mds) <- 4326"
   ]
  },
  {
   "cell_type": "code",
   "execution_count": 8,
   "id": "fiscal-agency",
   "metadata": {},
   "outputs": [],
   "source": [
    "# divide into training and test set\n",
    "pad_train = sample_n(pad_mds, 165) # 90% of the data for training\n",
    "st_crs(pad_train) <- 4326\n",
    "\n",
    "outside <- sapply(st_intersects(pad_mds, pad_train),function(x){length(x)==0})\n",
    "pad_test = pad_mds[outside, ] # 10% of the data for testing\n",
    "st_crs(pad_test) <- 4326"
   ]
  },
  {
   "cell_type": "code",
   "execution_count": 15,
   "id": "heavy-spelling",
   "metadata": {},
   "outputs": [
    {
     "name": "stdout",
     "output_type": "stream",
     "text": [
      "[inverse distance weighted interpolation]\n"
     ]
    },
    {
     "name": "stderr",
     "output_type": "stream",
     "text": [
      "Registered S3 method overwritten by 'geojsonsf':\n",
      "  method        from   \n",
      "  print.geojson geojson\n",
      "\n"
     ]
    },
    {
     "data": {
      "application/geo+json": {
       "features": [
        {
         "geometry": {
          "coordinates": [
           11.811,
           48.1969
          ],
          "type": "Point"
         },
         "properties": {
          "var1.pred": 0.7688,
          "var1.var": "NA"
         },
         "type": "Feature"
        },
        {
         "geometry": {
          "coordinates": [
           11.0739,
           49.4543
          ],
          "type": "Point"
         },
         "properties": {
          "var1.pred": 0.7266,
          "var1.var": "NA"
         },
         "type": "Feature"
        },
        {
         "geometry": {
          "coordinates": [
           12.4755,
           48.0941
          ],
          "type": "Point"
         },
         "properties": {
          "var1.pred": 0.7148,
          "var1.var": "NA"
         },
         "type": "Feature"
        },
        {
         "geometry": {
          "coordinates": [
           9.8171,
           49.8986
          ],
          "type": "Point"
         },
         "properties": {
          "var1.pred": 0.6815,
          "var1.var": "NA"
         },
         "type": "Feature"
        },
        {
         "geometry": {
          "coordinates": [
           8.8343,
           50.2179
          ],
          "type": "Point"
         },
         "properties": {
          "var1.pred": 0.5715,
          "var1.var": "NA"
         },
         "type": "Feature"
        },
        {
         "geometry": {
          "coordinates": [
           7.6378,
           49.6077
          ],
          "type": "Point"
         },
         "properties": {
          "var1.pred": 0.6623,
          "var1.var": "NA"
         },
         "type": "Feature"
        },
        {
         "geometry": {
          "coordinates": [
           6.7843,
           49.9567
          ],
          "type": "Point"
         },
         "properties": {
          "var1.pred": 0.5751,
          "var1.var": "NA"
         },
         "type": "Feature"
        },
        {
         "geometry": {
          "coordinates": [
           7.7857,
           50.5719
          ],
          "type": "Point"
         },
         "properties": {
          "var1.pred": 0.4842,
          "var1.var": "NA"
         },
         "type": "Feature"
        },
        {
         "geometry": {
          "coordinates": [
           9.9385,
           51.2578
          ],
          "type": "Point"
         },
         "properties": {
          "var1.pred": 0.372,
          "var1.var": "NA"
         },
         "type": "Feature"
        },
        {
         "geometry": {
          "coordinates": [
           8.6249,
           50.9662
          ],
          "type": "Point"
         },
         "properties": {
          "var1.pred": 0.5151,
          "var1.var": "NA"
         },
         "type": "Feature"
        },
        {
         "geometry": {
          "coordinates": [
           10.3687,
           51.9297
          ],
          "type": "Point"
         },
         "properties": {
          "var1.pred": 0.3344,
          "var1.var": "NA"
         },
         "type": "Feature"
        },
        {
         "geometry": {
          "coordinates": [
           13.7256,
           52.5653
          ],
          "type": "Point"
         },
         "properties": {
          "var1.pred": 0.2666,
          "var1.var": "NA"
         },
         "type": "Feature"
        },
        {
         "geometry": {
          "coordinates": [
           14.2625,
           53.744
          ],
          "type": "Point"
         },
         "properties": {
          "var1.pred": 0.1845,
          "var1.var": "NA"
         },
         "type": "Feature"
        },
        {
         "geometry": {
          "coordinates": [
           9.287,
           48.9804
          ],
          "type": "Point"
         },
         "properties": {
          "var1.pred": 0.7858,
          "var1.var": "NA"
         },
         "type": "Feature"
        },
        {
         "geometry": {
          "coordinates": [
           7.7331,
           47.7116
          ],
          "type": "Point"
         },
         "properties": {
          "var1.pred": 0.7605,
          "var1.var": "NA"
         },
         "type": "Feature"
        },
        {
         "geometry": {
          "coordinates": [
           10.2939,
           50.7245
          ],
          "type": "Point"
         },
         "properties": {
          "var1.pred": 0.4848,
          "var1.var": "NA"
         },
         "type": "Feature"
        },
        {
         "geometry": {
          "coordinates": [
           13.182,
           51.0648
          ],
          "type": "Point"
         },
         "properties": {
          "var1.pred": 0.3705,
          "var1.var": "NA"
         },
         "type": "Feature"
        },
        {
         "geometry": {
          "coordinates": [
           10.1609,
           50.967
          ],
          "type": "Point"
         },
         "properties": {
          "var1.pred": 0.4041,
          "var1.var": "NA"
         },
         "type": "Feature"
        }
       ],
       "type": "FeatureCollection"
      },
      "text/html": [
       "<table class=\"dataframe\">\n",
       "<caption>A sf: 18 × 3</caption>\n",
       "<thead>\n",
       "\t<tr><th></th><th scope=col>var1.pred</th><th scope=col>var1.var</th><th scope=col>geometry</th></tr>\n",
       "\t<tr><th></th><th scope=col>&lt;dbl&gt;</th><th scope=col>&lt;dbl&gt;</th><th scope=col>&lt;POINT [°]&gt;</th></tr>\n",
       "</thead>\n",
       "<tbody>\n",
       "\t<tr><th scope=row>1</th><td>0.7687961</td><td>NA</td><td>POINT (11.81097 48.19687)</td></tr>\n",
       "\t<tr><th scope=row>2</th><td>0.7266071</td><td>NA</td><td>POINT (11.07393 49.45431)</td></tr>\n",
       "\t<tr><th scope=row>3</th><td>0.7147772</td><td>NA</td><td>POINT (12.47554 48.09406)</td></tr>\n",
       "\t<tr><th scope=row>4</th><td>0.6814563</td><td>NA</td><td>POINT (9.81708 49.89864)</td></tr>\n",
       "\t<tr><th scope=row>5</th><td>0.5715453</td><td>NA</td><td>POINT (8.83433 50.21787)</td></tr>\n",
       "\t<tr><th scope=row>6</th><td>0.6622855</td><td>NA</td><td>POINT (7.63783 49.60773)</td></tr>\n",
       "\t<tr><th scope=row>7</th><td>0.5750662</td><td>NA</td><td>POINT (6.78431 49.95674)</td></tr>\n",
       "\t<tr><th scope=row>8</th><td>0.4842068</td><td>NA</td><td>POINT (7.78567 50.57188)</td></tr>\n",
       "\t<tr><th scope=row>9</th><td>0.3719699</td><td>NA</td><td>POINT (9.93846 51.25775)</td></tr>\n",
       "\t<tr><th scope=row>10</th><td>0.5150842</td><td>NA</td><td>POINT (8.62489 50.96621)</td></tr>\n",
       "\t<tr><th scope=row>11</th><td>0.3343957</td><td>NA</td><td>POINT (10.36866 51.92967)</td></tr>\n",
       "\t<tr><th scope=row>12</th><td>0.2665780</td><td>NA</td><td>POINT (13.7256 52.5653)</td></tr>\n",
       "\t<tr><th scope=row>13</th><td>0.1845321</td><td>NA</td><td>POINT (14.26249 53.74399)</td></tr>\n",
       "\t<tr><th scope=row>14</th><td>0.7858259</td><td>NA</td><td>POINT (9.28698 48.98044)</td></tr>\n",
       "\t<tr><th scope=row>15</th><td>0.7604952</td><td>NA</td><td>POINT (7.73306 47.71161)</td></tr>\n",
       "\t<tr><th scope=row>16</th><td>0.4848219</td><td>NA</td><td>POINT (10.29392 50.72446)</td></tr>\n",
       "\t<tr><th scope=row>17</th><td>0.3705062</td><td>NA</td><td>POINT (13.18202 51.06476)</td></tr>\n",
       "\t<tr><th scope=row>18</th><td>0.4041137</td><td>NA</td><td>POINT (10.16088 50.96697)</td></tr>\n",
       "</tbody>\n",
       "</table>\n"
      ],
      "text/latex": [
       "A sf: 18 × 3\n",
       "\\begin{tabular}{r|lll}\n",
       "  & var1.pred & var1.var & geometry\\\\\n",
       "  & <dbl> & <dbl> & <POINT {[}°{]}>\\\\\n",
       "\\hline\n",
       "\t1 & 0.7687961 & NA & POINT (11.81097 48.19687)\\\\\n",
       "\t2 & 0.7266071 & NA & POINT (11.07393 49.45431)\\\\\n",
       "\t3 & 0.7147772 & NA & POINT (12.47554 48.09406)\\\\\n",
       "\t4 & 0.6814563 & NA & POINT (9.81708 49.89864)\\\\\n",
       "\t5 & 0.5715453 & NA & POINT (8.83433 50.21787)\\\\\n",
       "\t6 & 0.6622855 & NA & POINT (7.63783 49.60773)\\\\\n",
       "\t7 & 0.5750662 & NA & POINT (6.78431 49.95674)\\\\\n",
       "\t8 & 0.4842068 & NA & POINT (7.78567 50.57188)\\\\\n",
       "\t9 & 0.3719699 & NA & POINT (9.93846 51.25775)\\\\\n",
       "\t10 & 0.5150842 & NA & POINT (8.62489 50.96621)\\\\\n",
       "\t11 & 0.3343957 & NA & POINT (10.36866 51.92967)\\\\\n",
       "\t12 & 0.2665780 & NA & POINT (13.7256 52.5653)\\\\\n",
       "\t13 & 0.1845321 & NA & POINT (14.26249 53.74399)\\\\\n",
       "\t14 & 0.7858259 & NA & POINT (9.28698 48.98044)\\\\\n",
       "\t15 & 0.7604952 & NA & POINT (7.73306 47.71161)\\\\\n",
       "\t16 & 0.4848219 & NA & POINT (10.29392 50.72446)\\\\\n",
       "\t17 & 0.3705062 & NA & POINT (13.18202 51.06476)\\\\\n",
       "\t18 & 0.4041137 & NA & POINT (10.16088 50.96697)\\\\\n",
       "\\end{tabular}\n"
      ],
      "text/markdown": [
       "\n",
       "A sf: 18 × 3\n",
       "\n",
       "| <!--/--> | var1.pred &lt;dbl&gt; | var1.var &lt;dbl&gt; | geometry &lt;POINT [°]&gt; |\n",
       "|---|---|---|---|\n",
       "| 1 | 0.7687961 | NA | POINT (11.81097 48.19687) |\n",
       "| 2 | 0.7266071 | NA | POINT (11.07393 49.45431) |\n",
       "| 3 | 0.7147772 | NA | POINT (12.47554 48.09406) |\n",
       "| 4 | 0.6814563 | NA | POINT (9.81708 49.89864) |\n",
       "| 5 | 0.5715453 | NA | POINT (8.83433 50.21787) |\n",
       "| 6 | 0.6622855 | NA | POINT (7.63783 49.60773) |\n",
       "| 7 | 0.5750662 | NA | POINT (6.78431 49.95674) |\n",
       "| 8 | 0.4842068 | NA | POINT (7.78567 50.57188) |\n",
       "| 9 | 0.3719699 | NA | POINT (9.93846 51.25775) |\n",
       "| 10 | 0.5150842 | NA | POINT (8.62489 50.96621) |\n",
       "| 11 | 0.3343957 | NA | POINT (10.36866 51.92967) |\n",
       "| 12 | 0.2665780 | NA | POINT (13.7256 52.5653) |\n",
       "| 13 | 0.1845321 | NA | POINT (14.26249 53.74399) |\n",
       "| 14 | 0.7858259 | NA | POINT (9.28698 48.98044) |\n",
       "| 15 | 0.7604952 | NA | POINT (7.73306 47.71161) |\n",
       "| 16 | 0.4848219 | NA | POINT (10.29392 50.72446) |\n",
       "| 17 | 0.3705062 | NA | POINT (13.18202 51.06476) |\n",
       "| 18 | 0.4041137 | NA | POINT (10.16088 50.96697) |\n",
       "\n"
      ],
      "text/plain": [
       "   var1.pred var1.var geometry                 \n",
       "1  0.7687961 NA       POINT (11.81097 48.19687)\n",
       "2  0.7266071 NA       POINT (11.07393 49.45431)\n",
       "3  0.7147772 NA       POINT (12.47554 48.09406)\n",
       "4  0.6814563 NA       POINT (9.81708 49.89864) \n",
       "5  0.5715453 NA       POINT (8.83433 50.21787) \n",
       "6  0.6622855 NA       POINT (7.63783 49.60773) \n",
       "7  0.5750662 NA       POINT (6.78431 49.95674) \n",
       "8  0.4842068 NA       POINT (7.78567 50.57188) \n",
       "9  0.3719699 NA       POINT (9.93846 51.25775) \n",
       "10 0.5150842 NA       POINT (8.62489 50.96621) \n",
       "11 0.3343957 NA       POINT (10.36866 51.92967)\n",
       "12 0.2665780 NA       POINT (13.7256 52.5653)  \n",
       "13 0.1845321 NA       POINT (14.26249 53.74399)\n",
       "14 0.7858259 NA       POINT (9.28698 48.98044) \n",
       "15 0.7604952 NA       POINT (7.73306 47.71161) \n",
       "16 0.4848219 NA       POINT (10.29392 50.72446)\n",
       "17 0.3705062 NA       POINT (13.18202 51.06476)\n",
       "18 0.4041137 NA       POINT (10.16088 50.96697)"
      ]
     },
     "metadata": {},
     "output_type": "display_data"
    }
   ],
   "source": [
    "# Inverse distance weighted interpolation\n",
    "pad.idw <- idw(r ~ 1, location = pad_train, newdata = pad_test, idp=2)\n",
    "pad.idw"
   ]
  },
  {
   "cell_type": "code",
   "execution_count": 16,
   "id": "innocent-savings",
   "metadata": {},
   "outputs": [
    {
     "name": "stdout",
     "output_type": "stream",
     "text": [
      "[using ordinary kriging]\n"
     ]
    },
    {
     "data": {
      "application/geo+json": {
       "features": [
        {
         "geometry": {
          "coordinates": [
           11.811,
           48.1969
          ],
          "type": "Point"
         },
         "properties": {
          "var1.pred": 0.8464,
          "var1.var": 0.0134
         },
         "type": "Feature"
        },
        {
         "geometry": {
          "coordinates": [
           11.0739,
           49.4543
          ],
          "type": "Point"
         },
         "properties": {
          "var1.pred": 0.8414,
          "var1.var": 0.0098
         },
         "type": "Feature"
        },
        {
         "geometry": {
          "coordinates": [
           12.4755,
           48.0941
          ],
          "type": "Point"
         },
         "properties": {
          "var1.pred": 0.7632,
          "var1.var": 0.0137
         },
         "type": "Feature"
        },
        {
         "geometry": {
          "coordinates": [
           9.8171,
           49.8986
          ],
          "type": "Point"
         },
         "properties": {
          "var1.pred": 0.7994,
          "var1.var": 0.0078
         },
         "type": "Feature"
        },
        {
         "geometry": {
          "coordinates": [
           8.8343,
           50.2179
          ],
          "type": "Point"
         },
         "properties": {
          "var1.pred": 0.6195,
          "var1.var": 0.0103
         },
         "type": "Feature"
        },
        {
         "geometry": {
          "coordinates": [
           7.6378,
           49.6077
          ],
          "type": "Point"
         },
         "properties": {
          "var1.pred": 0.7417,
          "var1.var": 0.01
         },
         "type": "Feature"
        },
        {
         "geometry": {
          "coordinates": [
           6.7843,
           49.9567
          ],
          "type": "Point"
         },
         "properties": {
          "var1.pred": 0.6607,
          "var1.var": 0.0122
         },
         "type": "Feature"
        },
        {
         "geometry": {
          "coordinates": [
           7.7857,
           50.5719
          ],
          "type": "Point"
         },
         "properties": {
          "var1.pred": 0.3706,
          "var1.var": 0.0082
         },
         "type": "Feature"
        },
        {
         "geometry": {
          "coordinates": [
           9.9385,
           51.2578
          ],
          "type": "Point"
         },
         "properties": {
          "var1.pred": 0.2526,
          "var1.var": 0.007
         },
         "type": "Feature"
        },
        {
         "geometry": {
          "coordinates": [
           8.6249,
           50.9662
          ],
          "type": "Point"
         },
         "properties": {
          "var1.pred": 0.5163,
          "var1.var": 0.0014
         },
         "type": "Feature"
        },
        {
         "geometry": {
          "coordinates": [
           10.3687,
           51.9297
          ],
          "type": "Point"
         },
         "properties": {
          "var1.pred": 0.328,
          "var1.var": 0.0055
         },
         "type": "Feature"
        },
        {
         "geometry": {
          "coordinates": [
           13.7256,
           52.5653
          ],
          "type": "Point"
         },
         "properties": {
          "var1.pred": 0.2361,
          "var1.var": 0.0114
         },
         "type": "Feature"
        },
        {
         "geometry": {
          "coordinates": [
           14.2625,
           53.744
          ],
          "type": "Point"
         },
         "properties": {
          "var1.pred": 0.1169,
          "var1.var": 0.0157
         },
         "type": "Feature"
        },
        {
         "geometry": {
          "coordinates": [
           9.287,
           48.9804
          ],
          "type": "Point"
         },
         "properties": {
          "var1.pred": 0.9875,
          "var1.var": 0.0106
         },
         "type": "Feature"
        },
        {
         "geometry": {
          "coordinates": [
           7.7331,
           47.7116
          ],
          "type": "Point"
         },
         "properties": {
          "var1.pred": 0.8889,
          "var1.var": 0.0166
         },
         "type": "Feature"
        },
        {
         "geometry": {
          "coordinates": [
           10.2939,
           50.7245
          ],
          "type": "Point"
         },
         "properties": {
          "var1.pred": 0.4478,
          "var1.var": 0.0054
         },
         "type": "Feature"
        },
        {
         "geometry": {
          "coordinates": [
           13.182,
           51.0648
          ],
          "type": "Point"
         },
         "properties": {
          "var1.pred": 0.3622,
          "var1.var": 0.0039
         },
         "type": "Feature"
        },
        {
         "geometry": {
          "coordinates": [
           10.1609,
           50.967
          ],
          "type": "Point"
         },
         "properties": {
          "var1.pred": 0.3562,
          "var1.var": 0.0048
         },
         "type": "Feature"
        }
       ],
       "type": "FeatureCollection"
      },
      "text/html": [
       "<table class=\"dataframe\">\n",
       "<caption>A sf: 18 × 3</caption>\n",
       "<thead>\n",
       "\t<tr><th></th><th scope=col>var1.pred</th><th scope=col>var1.var</th><th scope=col>geometry</th></tr>\n",
       "\t<tr><th></th><th scope=col>&lt;dbl&gt;</th><th scope=col>&lt;dbl&gt;</th><th scope=col>&lt;POINT [°]&gt;</th></tr>\n",
       "</thead>\n",
       "<tbody>\n",
       "\t<tr><th scope=row>1</th><td>0.8464249</td><td>0.013401733</td><td>POINT (11.81097 48.19687)</td></tr>\n",
       "\t<tr><th scope=row>2</th><td>0.8413702</td><td>0.009807277</td><td>POINT (11.07393 49.45431)</td></tr>\n",
       "\t<tr><th scope=row>3</th><td>0.7632074</td><td>0.013701823</td><td>POINT (12.47554 48.09406)</td></tr>\n",
       "\t<tr><th scope=row>4</th><td>0.7994210</td><td>0.007752890</td><td>POINT (9.81708 49.89864)</td></tr>\n",
       "\t<tr><th scope=row>5</th><td>0.6195221</td><td>0.010325068</td><td>POINT (8.83433 50.21787)</td></tr>\n",
       "\t<tr><th scope=row>6</th><td>0.7416569</td><td>0.010045375</td><td>POINT (7.63783 49.60773)</td></tr>\n",
       "\t<tr><th scope=row>7</th><td>0.6607217</td><td>0.012211358</td><td>POINT (6.78431 49.95674)</td></tr>\n",
       "\t<tr><th scope=row>8</th><td>0.3705807</td><td>0.008226260</td><td>POINT (7.78567 50.57188)</td></tr>\n",
       "\t<tr><th scope=row>9</th><td>0.2525663</td><td>0.006991102</td><td>POINT (9.93846 51.25775)</td></tr>\n",
       "\t<tr><th scope=row>10</th><td>0.5163265</td><td>0.001431504</td><td>POINT (8.62489 50.96621)</td></tr>\n",
       "\t<tr><th scope=row>11</th><td>0.3279689</td><td>0.005508135</td><td>POINT (10.36866 51.92967)</td></tr>\n",
       "\t<tr><th scope=row>12</th><td>0.2361161</td><td>0.011439676</td><td>POINT (13.7256 52.5653)</td></tr>\n",
       "\t<tr><th scope=row>13</th><td>0.1168893</td><td>0.015667956</td><td>POINT (14.26249 53.74399)</td></tr>\n",
       "\t<tr><th scope=row>14</th><td>0.9874875</td><td>0.010612422</td><td>POINT (9.28698 48.98044)</td></tr>\n",
       "\t<tr><th scope=row>15</th><td>0.8888876</td><td>0.016620824</td><td>POINT (7.73306 47.71161)</td></tr>\n",
       "\t<tr><th scope=row>16</th><td>0.4478225</td><td>0.005439305</td><td>POINT (10.29392 50.72446)</td></tr>\n",
       "\t<tr><th scope=row>17</th><td>0.3622066</td><td>0.003930188</td><td>POINT (13.18202 51.06476)</td></tr>\n",
       "\t<tr><th scope=row>18</th><td>0.3561850</td><td>0.004799648</td><td>POINT (10.16088 50.96697)</td></tr>\n",
       "</tbody>\n",
       "</table>\n"
      ],
      "text/latex": [
       "A sf: 18 × 3\n",
       "\\begin{tabular}{r|lll}\n",
       "  & var1.pred & var1.var & geometry\\\\\n",
       "  & <dbl> & <dbl> & <POINT {[}°{]}>\\\\\n",
       "\\hline\n",
       "\t1 & 0.8464249 & 0.013401733 & POINT (11.81097 48.19687)\\\\\n",
       "\t2 & 0.8413702 & 0.009807277 & POINT (11.07393 49.45431)\\\\\n",
       "\t3 & 0.7632074 & 0.013701823 & POINT (12.47554 48.09406)\\\\\n",
       "\t4 & 0.7994210 & 0.007752890 & POINT (9.81708 49.89864)\\\\\n",
       "\t5 & 0.6195221 & 0.010325068 & POINT (8.83433 50.21787)\\\\\n",
       "\t6 & 0.7416569 & 0.010045375 & POINT (7.63783 49.60773)\\\\\n",
       "\t7 & 0.6607217 & 0.012211358 & POINT (6.78431 49.95674)\\\\\n",
       "\t8 & 0.3705807 & 0.008226260 & POINT (7.78567 50.57188)\\\\\n",
       "\t9 & 0.2525663 & 0.006991102 & POINT (9.93846 51.25775)\\\\\n",
       "\t10 & 0.5163265 & 0.001431504 & POINT (8.62489 50.96621)\\\\\n",
       "\t11 & 0.3279689 & 0.005508135 & POINT (10.36866 51.92967)\\\\\n",
       "\t12 & 0.2361161 & 0.011439676 & POINT (13.7256 52.5653)\\\\\n",
       "\t13 & 0.1168893 & 0.015667956 & POINT (14.26249 53.74399)\\\\\n",
       "\t14 & 0.9874875 & 0.010612422 & POINT (9.28698 48.98044)\\\\\n",
       "\t15 & 0.8888876 & 0.016620824 & POINT (7.73306 47.71161)\\\\\n",
       "\t16 & 0.4478225 & 0.005439305 & POINT (10.29392 50.72446)\\\\\n",
       "\t17 & 0.3622066 & 0.003930188 & POINT (13.18202 51.06476)\\\\\n",
       "\t18 & 0.3561850 & 0.004799648 & POINT (10.16088 50.96697)\\\\\n",
       "\\end{tabular}\n"
      ],
      "text/markdown": [
       "\n",
       "A sf: 18 × 3\n",
       "\n",
       "| <!--/--> | var1.pred &lt;dbl&gt; | var1.var &lt;dbl&gt; | geometry &lt;POINT [°]&gt; |\n",
       "|---|---|---|---|\n",
       "| 1 | 0.8464249 | 0.013401733 | POINT (11.81097 48.19687) |\n",
       "| 2 | 0.8413702 | 0.009807277 | POINT (11.07393 49.45431) |\n",
       "| 3 | 0.7632074 | 0.013701823 | POINT (12.47554 48.09406) |\n",
       "| 4 | 0.7994210 | 0.007752890 | POINT (9.81708 49.89864) |\n",
       "| 5 | 0.6195221 | 0.010325068 | POINT (8.83433 50.21787) |\n",
       "| 6 | 0.7416569 | 0.010045375 | POINT (7.63783 49.60773) |\n",
       "| 7 | 0.6607217 | 0.012211358 | POINT (6.78431 49.95674) |\n",
       "| 8 | 0.3705807 | 0.008226260 | POINT (7.78567 50.57188) |\n",
       "| 9 | 0.2525663 | 0.006991102 | POINT (9.93846 51.25775) |\n",
       "| 10 | 0.5163265 | 0.001431504 | POINT (8.62489 50.96621) |\n",
       "| 11 | 0.3279689 | 0.005508135 | POINT (10.36866 51.92967) |\n",
       "| 12 | 0.2361161 | 0.011439676 | POINT (13.7256 52.5653) |\n",
       "| 13 | 0.1168893 | 0.015667956 | POINT (14.26249 53.74399) |\n",
       "| 14 | 0.9874875 | 0.010612422 | POINT (9.28698 48.98044) |\n",
       "| 15 | 0.8888876 | 0.016620824 | POINT (7.73306 47.71161) |\n",
       "| 16 | 0.4478225 | 0.005439305 | POINT (10.29392 50.72446) |\n",
       "| 17 | 0.3622066 | 0.003930188 | POINT (13.18202 51.06476) |\n",
       "| 18 | 0.3561850 | 0.004799648 | POINT (10.16088 50.96697) |\n",
       "\n"
      ],
      "text/plain": [
       "   var1.pred var1.var    geometry                 \n",
       "1  0.8464249 0.013401733 POINT (11.81097 48.19687)\n",
       "2  0.8413702 0.009807277 POINT (11.07393 49.45431)\n",
       "3  0.7632074 0.013701823 POINT (12.47554 48.09406)\n",
       "4  0.7994210 0.007752890 POINT (9.81708 49.89864) \n",
       "5  0.6195221 0.010325068 POINT (8.83433 50.21787) \n",
       "6  0.7416569 0.010045375 POINT (7.63783 49.60773) \n",
       "7  0.6607217 0.012211358 POINT (6.78431 49.95674) \n",
       "8  0.3705807 0.008226260 POINT (7.78567 50.57188) \n",
       "9  0.2525663 0.006991102 POINT (9.93846 51.25775) \n",
       "10 0.5163265 0.001431504 POINT (8.62489 50.96621) \n",
       "11 0.3279689 0.005508135 POINT (10.36866 51.92967)\n",
       "12 0.2361161 0.011439676 POINT (13.7256 52.5653)  \n",
       "13 0.1168893 0.015667956 POINT (14.26249 53.74399)\n",
       "14 0.9874875 0.010612422 POINT (9.28698 48.98044) \n",
       "15 0.8888876 0.016620824 POINT (7.73306 47.71161) \n",
       "16 0.4478225 0.005439305 POINT (10.29392 50.72446)\n",
       "17 0.3622066 0.003930188 POINT (13.18202 51.06476)\n",
       "18 0.3561850 0.004799648 POINT (10.16088 50.96697)"
      ]
     },
     "metadata": {},
     "output_type": "display_data"
    }
   ],
   "source": [
    "# Ordinary Kriging\n",
    "pad.v <- pad_train %>% variogram(r ~ 1, ., cloud=F, cutoff=1000) \n",
    "myVariogramModel <- vgm(psill=0.28, \"Sph\", range=1000, nugget=0.02)\n",
    "pad.vfit <- fit.variogram(pad.v, myVariogramModel, fit.ranges=F)\n",
    "pad.krige <- krige(r ~ 1, pad_train, pad_test, pad.vfit)\n",
    "pad.krige"
   ]
  },
  {
   "cell_type": "code",
   "execution_count": 20,
   "id": "veterinary-gauge",
   "metadata": {},
   "outputs": [
    {
     "data": {
      "text/html": [
       "<table class=\"dataframe\">\n",
       "<caption>A data.frame: 18 × 3</caption>\n",
       "<thead>\n",
       "\t<tr><th></th><th scope=col>X</th><th scope=col>Y</th><th scope=col>Z</th></tr>\n",
       "\t<tr><th></th><th scope=col>&lt;dbl&gt;</th><th scope=col>&lt;dbl&gt;</th><th scope=col>&lt;dbl&gt;</th></tr>\n",
       "</thead>\n",
       "<tbody>\n",
       "\t<tr><th scope=row>1</th><td>11.81097</td><td>48.19687</td><td>0.8324694</td></tr>\n",
       "\t<tr><th scope=row>2</th><td>11.07393</td><td>49.45431</td><td>0.8354578</td></tr>\n",
       "\t<tr><th scope=row>3</th><td>12.47554</td><td>48.09406</td><td>0.7793219</td></tr>\n",
       "\t<tr><th scope=row>4</th><td> 9.81708</td><td>49.89864</td><td>0.7754256</td></tr>\n",
       "\t<tr><th scope=row>5</th><td> 8.83433</td><td>50.21787</td><td>0.6719078</td></tr>\n",
       "\t<tr><th scope=row>6</th><td> 7.63783</td><td>49.60773</td><td>0.7321496</td></tr>\n",
       "\t<tr><th scope=row>7</th><td> 6.78431</td><td>49.95674</td><td>0.6638333</td></tr>\n",
       "\t<tr><th scope=row>8</th><td> 7.78567</td><td>50.57188</td><td>0.5525381</td></tr>\n",
       "\t<tr><th scope=row>9</th><td> 9.93846</td><td>51.25775</td><td>0.3791023</td></tr>\n",
       "\t<tr><th scope=row>10</th><td> 8.62489</td><td>50.96621</td><td>0.4909601</td></tr>\n",
       "\t<tr><th scope=row>11</th><td>10.36866</td><td>51.92967</td><td>0.2037770</td></tr>\n",
       "\t<tr><th scope=row>12</th><td>13.72560</td><td>52.56530</td><td>0.2206875</td></tr>\n",
       "\t<tr><th scope=row>13</th><td>14.26249</td><td>53.74399</td><td>0.1281597</td></tr>\n",
       "\t<tr><th scope=row>14</th><td> 9.28698</td><td>48.98044</td><td>0.9156043</td></tr>\n",
       "\t<tr><th scope=row>15</th><td> 7.73306</td><td>47.71161</td><td>0.9346893</td></tr>\n",
       "\t<tr><th scope=row>16</th><td>10.29392</td><td>50.72446</td><td>0.5288310</td></tr>\n",
       "\t<tr><th scope=row>17</th><td>13.18202</td><td>51.06476</td><td>0.3903323</td></tr>\n",
       "\t<tr><th scope=row>18</th><td>10.16088</td><td>50.96697</td><td>0.4556959</td></tr>\n",
       "</tbody>\n",
       "</table>\n"
      ],
      "text/latex": [
       "A data.frame: 18 × 3\n",
       "\\begin{tabular}{r|lll}\n",
       "  & X & Y & Z\\\\\n",
       "  & <dbl> & <dbl> & <dbl>\\\\\n",
       "\\hline\n",
       "\t1 & 11.81097 & 48.19687 & 0.8324694\\\\\n",
       "\t2 & 11.07393 & 49.45431 & 0.8354578\\\\\n",
       "\t3 & 12.47554 & 48.09406 & 0.7793219\\\\\n",
       "\t4 &  9.81708 & 49.89864 & 0.7754256\\\\\n",
       "\t5 &  8.83433 & 50.21787 & 0.6719078\\\\\n",
       "\t6 &  7.63783 & 49.60773 & 0.7321496\\\\\n",
       "\t7 &  6.78431 & 49.95674 & 0.6638333\\\\\n",
       "\t8 &  7.78567 & 50.57188 & 0.5525381\\\\\n",
       "\t9 &  9.93846 & 51.25775 & 0.3791023\\\\\n",
       "\t10 &  8.62489 & 50.96621 & 0.4909601\\\\\n",
       "\t11 & 10.36866 & 51.92967 & 0.2037770\\\\\n",
       "\t12 & 13.72560 & 52.56530 & 0.2206875\\\\\n",
       "\t13 & 14.26249 & 53.74399 & 0.1281597\\\\\n",
       "\t14 &  9.28698 & 48.98044 & 0.9156043\\\\\n",
       "\t15 &  7.73306 & 47.71161 & 0.9346893\\\\\n",
       "\t16 & 10.29392 & 50.72446 & 0.5288310\\\\\n",
       "\t17 & 13.18202 & 51.06476 & 0.3903323\\\\\n",
       "\t18 & 10.16088 & 50.96697 & 0.4556959\\\\\n",
       "\\end{tabular}\n"
      ],
      "text/markdown": [
       "\n",
       "A data.frame: 18 × 3\n",
       "\n",
       "| <!--/--> | X &lt;dbl&gt; | Y &lt;dbl&gt; | Z &lt;dbl&gt; |\n",
       "|---|---|---|---|\n",
       "| 1 | 11.81097 | 48.19687 | 0.8324694 |\n",
       "| 2 | 11.07393 | 49.45431 | 0.8354578 |\n",
       "| 3 | 12.47554 | 48.09406 | 0.7793219 |\n",
       "| 4 |  9.81708 | 49.89864 | 0.7754256 |\n",
       "| 5 |  8.83433 | 50.21787 | 0.6719078 |\n",
       "| 6 |  7.63783 | 49.60773 | 0.7321496 |\n",
       "| 7 |  6.78431 | 49.95674 | 0.6638333 |\n",
       "| 8 |  7.78567 | 50.57188 | 0.5525381 |\n",
       "| 9 |  9.93846 | 51.25775 | 0.3791023 |\n",
       "| 10 |  8.62489 | 50.96621 | 0.4909601 |\n",
       "| 11 | 10.36866 | 51.92967 | 0.2037770 |\n",
       "| 12 | 13.72560 | 52.56530 | 0.2206875 |\n",
       "| 13 | 14.26249 | 53.74399 | 0.1281597 |\n",
       "| 14 |  9.28698 | 48.98044 | 0.9156043 |\n",
       "| 15 |  7.73306 | 47.71161 | 0.9346893 |\n",
       "| 16 | 10.29392 | 50.72446 | 0.5288310 |\n",
       "| 17 | 13.18202 | 51.06476 | 0.3903323 |\n",
       "| 18 | 10.16088 | 50.96697 | 0.4556959 |\n",
       "\n"
      ],
      "text/plain": [
       "   X        Y        Z        \n",
       "1  11.81097 48.19687 0.8324694\n",
       "2  11.07393 49.45431 0.8354578\n",
       "3  12.47554 48.09406 0.7793219\n",
       "4   9.81708 49.89864 0.7754256\n",
       "5   8.83433 50.21787 0.6719078\n",
       "6   7.63783 49.60773 0.7321496\n",
       "7   6.78431 49.95674 0.6638333\n",
       "8   7.78567 50.57188 0.5525381\n",
       "9   9.93846 51.25775 0.3791023\n",
       "10  8.62489 50.96621 0.4909601\n",
       "11 10.36866 51.92967 0.2037770\n",
       "12 13.72560 52.56530 0.2206875\n",
       "13 14.26249 53.74399 0.1281597\n",
       "14  9.28698 48.98044 0.9156043\n",
       "15  7.73306 47.71161 0.9346893\n",
       "16 10.29392 50.72446 0.5288310\n",
       "17 13.18202 51.06476 0.3903323\n",
       "18 10.16088 50.96697 0.4556959"
      ]
     },
     "metadata": {},
     "output_type": "display_data"
    }
   ],
   "source": [
    "# Generalized Additive Models\n",
    "gam.fit <- pad_train %>%\n",
    "  cbind(., st_coordinates(.)) %>%\n",
    "  select(r, X, Y) %>%\n",
    "  mgcv::gam(r ~ s(X,Y), data=.) \n",
    "\n",
    "gam.prediction <- predict(gam.fit, newdata = data.frame(st_coordinates(pad_test)))\n",
    "\n",
    "pad.gam <- pad.krige %>%\n",
    "  cbind(., st_coordinates(.)) %>%\n",
    "  st_drop_geometry() %>%\n",
    "  mutate(Z = gam.prediction) %>%\n",
    "  select(X, Y, Z) \n",
    "#   %>% raster::rasterFromXYZ(crs=4326) %>%\n",
    "#   as(\"SpatRaster\")\n",
    "\n",
    "pad.gam"
   ]
  },
  {
   "cell_type": "code",
   "execution_count": null,
   "id": "rough-officer",
   "metadata": {},
   "outputs": [],
   "source": []
  }
 ],
 "metadata": {
  "kernelspec": {
   "display_name": "R",
   "language": "R",
   "name": "ir"
  },
  "language_info": {
   "codemirror_mode": "r",
   "file_extension": ".r",
   "mimetype": "text/x-r-source",
   "name": "R",
   "pygments_lexer": "r",
   "version": "4.2.1"
  }
 },
 "nbformat": 4,
 "nbformat_minor": 5
}
